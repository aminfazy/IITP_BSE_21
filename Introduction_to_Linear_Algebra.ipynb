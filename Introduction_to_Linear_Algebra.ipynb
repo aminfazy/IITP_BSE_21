{
  "nbformat": 4,
  "nbformat_minor": 0,
  "metadata": {
    "colab": {
      "name": "Introduction_to_Linear_Algebra.ipynb",
      "provenance": [],
      "collapsed_sections": [],
      "include_colab_link": true
    },
    "kernelspec": {
      "name": "python3",
      "display_name": "Python 3"
    }
  },
  "cells": [
    {
      "cell_type": "markdown",
      "metadata": {
        "id": "view-in-github",
        "colab_type": "text"
      },
      "source": [
        "<a href=\"https://colab.research.google.com/github/nrjcs/iitpbse/blob/master/Introduction_to_Linear_Algebra.ipynb\" target=\"_parent\"><img src=\"https://colab.research.google.com/assets/colab-badge.svg\" alt=\"Open In Colab\"/></a>"
      ]
    },
    {
      "cell_type": "markdown",
      "metadata": {
        "id": "BqzGOK2hgYS9",
        "colab_type": "text"
      },
      "source": [
        "# Numpy\n",
        "* Details @ [Numpy web page](https://numpy.org/) and @ [Github page](https://cs231n.github.io/python-numpy-tutorial/) \n",
        "\n",
        "* Numpy is the core library for scientific computing in Python.\n",
        "\n",
        "* It provides a high-performance multidimensional array object, and tools for working with these arrays.\n",
        "\n",
        "* Various routines are provided for fast operations on arrays, including mathematical, logical, shape manipulation, sorting, selecting, I/O, discrete Fourier transforms, basic linear algebra, basic statistical operations, random simulation and much more. \n"
      ]
    },
    {
      "cell_type": "code",
      "metadata": {
        "id": "yAk8t3VJt-cr",
        "colab_type": "code",
        "colab": {}
      },
      "source": [
        "import numpy as np"
      ],
      "execution_count": 0,
      "outputs": []
    },
    {
      "cell_type": "code",
      "metadata": {
        "id": "zaQ3tLdMuP8V",
        "colab_type": "code",
        "colab": {}
      },
      "source": [
        "# define arrays are to be used for the various operations in following cells\n",
        "a=np.array([[2,3,4,5],[5,4,6,3],[7,3,6,1],[7,5,3,9]])\n",
        "b=np.array([[3,4,6,7],[8,4,2,6],[8,5,9,1],[6,2,8,4]])\n",
        "\n",
        "c=np.array([[2,3,4,5],[7,3,6,1],[7,5,3,9]])\n",
        "d=np.array([[3,4,6,7],[8,4,2,6],[8,5,9,1]])\n",
        "\n",
        "e=np.array([[4,6,7],[8,2,6],[8,5,1],[2,8,4]])"
      ],
      "execution_count": 0,
      "outputs": []
    },
    {
      "cell_type": "code",
      "metadata": {
        "id": "d6IMeMNgurFM",
        "colab_type": "code",
        "colab": {}
      },
      "source": [
        "# matrix multiplication\n",
        "\n",
        "out = np.matmul(a,b) # np.matnul and np.dot are same for 2 D arrays\n",
        "print(out)"
      ],
      "execution_count": 0,
      "outputs": []
    },
    {
      "cell_type": "code",
      "metadata": {
        "id": "BGk_dtMkvM0s",
        "colab_type": "code",
        "colab": {}
      },
      "source": [
        "# transpose operation\n",
        "\n",
        "print(a)\n",
        "out = np.transpose(a)\n",
        "print(out)"
      ],
      "execution_count": 0,
      "outputs": []
    },
    {
      "cell_type": "code",
      "metadata": {
        "id": "jtZDsL52vzEv",
        "colab_type": "code",
        "colab": {}
      },
      "source": [
        "# Power of Matrix\n",
        "\n",
        "print(a)\n",
        "out = np.linalg.matrix_power(a,2)\n",
        "print(out)"
      ],
      "execution_count": 0,
      "outputs": []
    },
    {
      "cell_type": "code",
      "metadata": {
        "id": "cPTIiDLx6W9L",
        "colab_type": "code",
        "colab": {}
      },
      "source": [
        "# Determinant of a Matrix\n",
        "\n",
        "print(a)\n",
        "out = np.linalg.det(a)\n",
        "print(out)\n",
        "\n",
        "print(b)\n",
        "out = np.linalg.det(b)\n",
        "print(out)"
      ],
      "execution_count": 0,
      "outputs": []
    },
    {
      "cell_type": "code",
      "metadata": {
        "id": "-zEsyA4_45-c",
        "colab_type": "code",
        "colab": {}
      },
      "source": [
        "# Norm of matrix\n",
        "\n",
        "print(a)\n",
        "out = np.linalg.norm(a)\n",
        "print(out)"
      ],
      "execution_count": 0,
      "outputs": []
    },
    {
      "cell_type": "code",
      "metadata": {
        "id": "yiLEnCks8CZm",
        "colab_type": "code",
        "colab": {}
      },
      "source": [
        "# Trace of Matrix\n",
        "\n",
        "print(a)\n",
        "out = np.trace(a)\n",
        "print(out)\n",
        "\n",
        "print(e)\n",
        "out = np.trace(e)\n",
        "print(out)\n"
      ],
      "execution_count": 0,
      "outputs": []
    },
    {
      "cell_type": "code",
      "metadata": {
        "id": "ZQFkgYnS87pC",
        "colab_type": "code",
        "colab": {}
      },
      "source": [
        "# Inverse of a Square Matrix\n",
        "\n",
        "print(a)\n",
        "out = np.linalg.inv(a)\n",
        "print(out)\n"
      ],
      "execution_count": 0,
      "outputs": []
    },
    {
      "cell_type": "code",
      "metadata": {
        "id": "F8oXtR3v94Jj",
        "colab_type": "code",
        "colab": {}
      },
      "source": [
        "# Inverse of a General Matrix (Pseudo-inverse)\n",
        "\n",
        "print(e)\n",
        "out = np.linalg.pinv(e)\n",
        "print(out)\n",
        "\n"
      ],
      "execution_count": 0,
      "outputs": []
    },
    {
      "cell_type": "code",
      "metadata": {
        "id": "bUVc1pp-7Ycc",
        "colab_type": "code",
        "colab": {}
      },
      "source": [
        "# Rank of Matrix\n",
        "\n",
        "print(a)\n",
        "out = np.linalg.matrix_rank(a)\n",
        "print(out)\n",
        "\n",
        "print(e)\n",
        "out = np.linalg.matrix_rank(e)\n",
        "print(out)"
      ],
      "execution_count": 0,
      "outputs": []
    },
    {
      "cell_type": "code",
      "metadata": {
        "id": "foJrjbK7xEB9",
        "colab_type": "code",
        "colab": {}
      },
      "source": [
        "# Singular Value Decompostion\n",
        "\n",
        "print(c.shape)\n",
        "print(c)\n",
        "u, sigma, v = np.linalg.svd(c)\n",
        "print(u.shape, sigma.shape, v.shape)\n",
        "print(u)\n",
        "print(sigma)\n",
        "print(v)"
      ],
      "execution_count": 0,
      "outputs": []
    },
    {
      "cell_type": "code",
      "metadata": {
        "id": "goXR5rphzA8T",
        "colab_type": "code",
        "colab": {}
      },
      "source": [
        "# Eigen Value Decomposition\n",
        "\n",
        "print(a)\n",
        "L, V = np.linalg.eig(a) # L eigenvalues and corresponding right eigen vectors\n",
        "print(L.shape, V.shape)\n",
        "print(L)\n",
        "print(V)"
      ],
      "execution_count": 0,
      "outputs": []
    }
  ]
}